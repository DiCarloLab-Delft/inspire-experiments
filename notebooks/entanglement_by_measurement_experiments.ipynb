{
 "cells": [
  {
   "cell_type": "markdown",
   "id": "987f6142-4fde-40b4-8c24-cf8852659032",
   "metadata": {
    "pycharm": {
     "name": "#%% md\n"
    }
   },
   "source": [
    "# Entanglement by measurement on Starmon-5"
   ]
  },
  {
   "cell_type": "code",
   "execution_count": 1,
   "outputs": [
    {
     "data": {
      "text/plain": "<IPython.core.display.HTML object>",
      "text/html": "<h3>Version Information</h3><table><tr><th>Qiskit Software</th><th>Version</th></tr><tr><td><code>qiskit-terra</code></td><td>0.21.1</td></tr><tr><td><code>qiskit-aer</code></td><td>0.10.4</td></tr><tr><td><code>qiskit-ibmq-provider</code></td><td>0.19.2</td></tr><tr><td><code>qiskit</code></td><td>0.37.1</td></tr><tr><th>System information</th></tr><tr><td>Python version</td><td>3.10.4</td></tr><tr><td>Python compiler</td><td>GCC 7.5.0</td></tr><tr><td>Python build</td><td>main, Mar 31 2022 08:41:55</td></tr><tr><td>OS</td><td>Linux</td></tr><tr><td>CPUs</td><td>4</td></tr><tr><td>Memory (Gb)</td><td>31.078598022460938</td></tr><tr><td colspan='2'>Wed Aug 24 01:07:12 2022 CEST</td></tr></table>"
     },
     "metadata": {},
     "output_type": "display_data"
    }
   ],
   "source": [
    "from typing import List\n",
    "from tqdm import tqdm\n",
    "import numpy as np\n",
    "import itertools as it\n",
    "\n",
    "import qiskit\n",
    "import qiskit.tools.jupyter\n",
    "from qiskit import QuantumCircuit\n",
    "import qiskit.circuit.library.standard_gates as gates\n",
    "import qiskit.tools.visualization as qvis\n",
    "\n",
    "from importlib import reload\n",
    "import inspire_experiments\n",
    "reload(inspire_experiments)\n",
    "from inspire_experiments import ExperimentData, get_starmon_status, inspire_login, get_file_header, measure_readout_correction\n",
    "\n",
    "# %matplotlib notebook\n",
    "%matplotlib inline\n",
    "%load_ext autoreload\n",
    "%autoreload 2\n",
    "%qiskit_version_table"
   ],
   "metadata": {
    "collapsed": false,
    "pycharm": {
     "name": "#%%\n"
    }
   }
  },
  {
   "cell_type": "code",
   "execution_count": 2,
   "outputs": [
    {
     "name": "stdout",
     "output_type": "stream",
     "text": [
      "Backend status:  IDLE\n"
     ]
    },
    {
     "data": {
      "text/plain": "<qiskit.providers.models.backendstatus.BackendStatus at 0x7fde5c5acd90>",
      "text/html": "<pre>&lt;qiskit.providers.models.backendstatus.BackendStatus object at 0x7fde5c5acd90&gt;</pre><b>name</b>: Starmon-5<br/><b>version</b>: 2.0.0, <b>pending jobs</b>: 0<br/><b>status</b>: <br/>"
     },
     "execution_count": 2,
     "metadata": {},
     "output_type": "execute_result"
    }
   ],
   "source": [
    "api, backend = inspire_login()\n",
    "backend.status()"
   ],
   "metadata": {
    "collapsed": false,
    "pycharm": {
     "name": "#%%\n"
    }
   }
  },
  {
   "cell_type": "code",
   "execution_count": 3,
   "outputs": [
    {
     "data": {
      "text/plain": "'IDLE'"
     },
     "execution_count": 3,
     "metadata": {},
     "output_type": "execute_result"
    }
   ],
   "source": [
    "get_starmon_status(api)"
   ],
   "metadata": {
    "collapsed": false,
    "pycharm": {
     "name": "#%%\n"
    }
   }
  },
  {
   "cell_type": "markdown",
   "source": [
    "## Measure\n"
   ],
   "metadata": {
    "collapsed": false,
    "pycharm": {
     "name": "#%% md\n"
    }
   }
  },
  {
   "cell_type": "code",
   "execution_count": 4,
   "outputs": [],
   "source": [
    "def measure_entanglement_by_msmt(\n",
    "        qubits: list[int],\n",
    "        tomo_qubits: list[int] = [],\n",
    "        sim_msmt: bool = True,\n",
    "        dd_sequence: str = None,\n",
    "        exp_basename: str = \"entanglement_by_msmt\",\n",
    "        extra_label: str = None,\n",
    "        show_circuit: bool = False,\n",
    "        send_jobs: bool = True\n",
    "):\n",
    "    jobs = []\n",
    "    circuits = []\n",
    "    if tomo_qubits:\n",
    "        tomo_gates = {'X': gates.RYGate(-np.pi/2), 'Y': gates.RXGate(np.pi/2), 'Z': gates.IGate()}\n",
    "        tomo_combinations = list(it.product(tomo_gates.keys(), repeat=len(tomo_qubits)))\n",
    "    else:\n",
    "        tomo_combinations = ['Z']\n",
    "\n",
    "    for tomo_option in tqdm(tomo_combinations, total=len(tomo_combinations)):\n",
    "        circuit = QuantumCircuit(5,5)\n",
    "        # circuit.rx(np.pi/2, qubits[1])\n",
    "        # circuit.ry(-np.pi/2, qubits[0])\n",
    "        # circuit.ry(-np.pi/2, qubits[2])\n",
    "\n",
    "        circuit.x(qubits[0])\n",
    "\n",
    "        for qb in qubits:\n",
    "            circuit.ry(np.pi/2, qb)\n",
    "\n",
    "        circuit.barrier(range(5))\n",
    "        circuit.cz(qubits[1], qubits[0])\n",
    "        circuit.id(qubits[1])\n",
    "        # circuit.id(qubits[1])\n",
    "        circuit.cz(qubits[1], qubits[2])\n",
    "        circuit.barrier(range(5))\n",
    "\n",
    "        for qb in qubits:\n",
    "            circuit.ry(-np.pi/2, qb)\n",
    "\n",
    "        # circuit.rx(np.pi/2, qubits[1])\n",
    "        # circuit.ry(np.pi/2, qubits[0])\n",
    "        # circuit.ry(np.pi/2, qubits[2])\n",
    "        circuit.barrier(range(5))\n",
    "        if qubits[1] in tomo_qubits:\n",
    "            idx = tomo_qubits.index(qubits[1])\n",
    "            circuit.append(tomo_gates[tomo_option[idx]], [qubits[1]])\n",
    "        elif sim_msmt:\n",
    "            circuit.id(qubits[1])\n",
    "        circuit.measure(qubits[1], qubits[1])\n",
    "\n",
    "\n",
    "        # for qb in set(qubits).intersection(tomo_qubits):\n",
    "        #     idx = tomo_qubits.index(qb)\n",
    "        #     circuit.append(tomo_gates[tomo_option[idx]], [qb])\n",
    "        #     circuit.measure(qb, qb)\n",
    "\n",
    "        if not sim_msmt:\n",
    "            if dd_sequence:\n",
    "                # add decoupling sequence XY4, padded with 2 IDs at beginning and end\n",
    "                for _ in range(2):\n",
    "                    circuit.id(qubits[0])\n",
    "                    circuit.id(qubits[-1])\n",
    "                for _ in range(1):\n",
    "                    for _ in range(4):\n",
    "                        circuit.x(qubits[0])\n",
    "                        circuit.x(qubits[-1])\n",
    "                        circuit.y(qubits[0])\n",
    "                        circuit.y(qubits[-1])\n",
    "                for _ in range(2):\n",
    "                    circuit.id(qubits[0])\n",
    "                    circuit.id(qubits[-1])\n",
    "                circuit.barrier(range(5))\n",
    "            else:\n",
    "                # add waiting time via ID gates on data qubits\n",
    "                for _ in range(100):\n",
    "                    circuit.id(qubits[0])\n",
    "                    circuit.id(qubits[-1])\n",
    "\n",
    "\n",
    "        # for qb in set(qubits).difference(tomo_qubits):\n",
    "        #     circuit.id(qb)\n",
    "        #     circuit.measure(qb, qb)\n",
    "\n",
    "        if qubits[0] in tomo_qubits:\n",
    "            idx = tomo_qubits.index(qubits[0])\n",
    "            circuit.append(tomo_gates[tomo_option[idx]], [qubits[0]])\n",
    "        elif sim_msmt:\n",
    "            circuit.id(qubits[0])\n",
    "        circuit.measure(qubits[0], qubits[0])\n",
    "\n",
    "        if qubits[2] in tomo_qubits:\n",
    "            idx = tomo_qubits.index(qubits[2])\n",
    "            circuit.append(tomo_gates[tomo_option[idx]], [qubits[2]])\n",
    "        elif sim_msmt:\n",
    "            circuit.id(qubits[2])\n",
    "        circuit.measure(qubits[2], qubits[2])\n",
    "\n",
    "        if show_circuit:\n",
    "            display(circuit.draw(output='mpl', scale=1, fold=50))\n",
    "            # qvis.circuit_drawer(circuit, output='mpl', scale=0.5, line_length=-1)\n",
    "        circuits += [circuit]\n",
    "\n",
    "        exp_name = exp_basename + f\"_qbs{qubits}\"\n",
    "        exp_name += \"_sim-msmt\" if sim_msmt else ''\n",
    "        exp_name += f\"_{dd_sequence}\" if dd_sequence else ''\n",
    "        exp_name += extra_label if extra_label else ''\n",
    "        exp_name += f\"_tom{tomo_qubits}\" + f\"_M{tomo_option}\" if tomo_qubits else ''\n",
    "        print(exp_name)\n",
    "\n",
    "        if send_jobs:\n",
    "            header = get_file_header(circuit)\n",
    "            print(get_starmon_status(api))\n",
    "            job = qiskit.execute(circuit, shots=2**14, optimization_level=0, backend=backend)\n",
    "            ExperimentData.save_job_result(job, exp_name, header)\n",
    "            jobs += [job]\n",
    "\n",
    "    return jobs, circuits\n"
   ],
   "metadata": {
    "collapsed": false,
    "pycharm": {
     "name": "#%%\n"
    }
   }
  },
  {
   "cell_type": "code",
   "execution_count": 6,
   "outputs": [
    {
     "name": "stderr",
     "output_type": "stream",
     "text": [
      "  0%|          | 0/9 [00:00<?, ?it/s]"
     ]
    },
    {
     "name": "stdout",
     "output_type": "stream",
     "text": [
      "entanglement_by_msmt_qbs[0, 2, 4]_Xqb0_tom[0, 4]_M('X', 'X')\n",
      "IDLE\n"
     ]
    },
    {
     "name": "stderr",
     "output_type": "stream",
     "text": [
      "01:07:51 - inspire_experiments.data_utils:INFO - Saving results for job 7166471 in ./data/\n",
      " 11%|█         | 1/9 [00:50<06:47, 50.88s/it]"
     ]
    },
    {
     "name": "stdout",
     "output_type": "stream",
     "text": [
      "entanglement_by_msmt_qbs[0, 2, 4]_Xqb0_tom[0, 4]_M('X', 'Y')\n",
      "IDLE\n"
     ]
    },
    {
     "name": "stderr",
     "output_type": "stream",
     "text": [
      "01:08:42 - inspire_experiments.data_utils:INFO - Saving results for job 7166472 in ./data/\n",
      " 22%|██▏       | 2/9 [01:38<05:41, 48.81s/it]"
     ]
    },
    {
     "name": "stdout",
     "output_type": "stream",
     "text": [
      "entanglement_by_msmt_qbs[0, 2, 4]_Xqb0_tom[0, 4]_M('X', 'Z')\n",
      "IDLE\n"
     ]
    },
    {
     "name": "stderr",
     "output_type": "stream",
     "text": [
      "01:09:30 - inspire_experiments.data_utils:INFO - Saving results for job 7166473 in ./data/\n",
      " 33%|███▎      | 3/9 [02:26<04:52, 48.72s/it]"
     ]
    },
    {
     "name": "stdout",
     "output_type": "stream",
     "text": [
      "entanglement_by_msmt_qbs[0, 2, 4]_Xqb0_tom[0, 4]_M('Y', 'X')\n",
      "EXECUTION\n"
     ]
    },
    {
     "name": "stderr",
     "output_type": "stream",
     "text": [
      "01:10:18 - inspire_experiments.data_utils:INFO - Saving results for job 7166474 in ./data/\n",
      " 44%|████▍     | 4/9 [03:14<04:01, 48.27s/it]"
     ]
    },
    {
     "name": "stdout",
     "output_type": "stream",
     "text": [
      "entanglement_by_msmt_qbs[0, 2, 4]_Xqb0_tom[0, 4]_M('Y', 'Y')\n",
      "EXECUTION\n"
     ]
    },
    {
     "name": "stderr",
     "output_type": "stream",
     "text": [
      "01:11:06 - inspire_experiments.data_utils:INFO - Saving results for job 7166475 in ./data/\n",
      " 56%|█████▌    | 5/9 [04:00<03:10, 47.63s/it]"
     ]
    },
    {
     "name": "stdout",
     "output_type": "stream",
     "text": [
      "entanglement_by_msmt_qbs[0, 2, 4]_Xqb0_tom[0, 4]_M('Y', 'Z')\n",
      "EXECUTION\n"
     ]
    },
    {
     "name": "stderr",
     "output_type": "stream",
     "text": [
      "01:11:52 - inspire_experiments.data_utils:INFO - Saving results for job 7166476 in ./data/\n",
      " 67%|██████▋   | 6/9 [04:48<02:23, 47.75s/it]"
     ]
    },
    {
     "name": "stdout",
     "output_type": "stream",
     "text": [
      "entanglement_by_msmt_qbs[0, 2, 4]_Xqb0_tom[0, 4]_M('Z', 'X')\n",
      "EXECUTION\n"
     ]
    },
    {
     "name": "stderr",
     "output_type": "stream",
     "text": [
      "01:12:40 - inspire_experiments.data_utils:INFO - Saving results for job 7166477 in ./data/\n",
      " 78%|███████▊  | 7/9 [05:36<01:35, 47.60s/it]"
     ]
    },
    {
     "name": "stdout",
     "output_type": "stream",
     "text": [
      "entanglement_by_msmt_qbs[0, 2, 4]_Xqb0_tom[0, 4]_M('Z', 'Y')\n",
      "IDLE\n"
     ]
    },
    {
     "name": "stderr",
     "output_type": "stream",
     "text": [
      "01:13:28 - inspire_experiments.data_utils:INFO - Saving results for job 7166478 in ./data/\n",
      " 89%|████████▉ | 8/9 [06:24<00:47, 47.76s/it]"
     ]
    },
    {
     "name": "stdout",
     "output_type": "stream",
     "text": [
      "entanglement_by_msmt_qbs[0, 2, 4]_Xqb0_tom[0, 4]_M('Z', 'Z')\n",
      "EXECUTION\n"
     ]
    },
    {
     "name": "stderr",
     "output_type": "stream",
     "text": [
      "01:14:16 - inspire_experiments.data_utils:INFO - Saving results for job 7166479 in ./data/\n",
      "100%|██████████| 9/9 [07:12<00:00, 48.08s/it]\n"
     ]
    }
   ],
   "source": [
    "jobs, circuits = measure_entanglement_by_msmt([0,2,4], tomo_qubits=[0,4], extra_label=\"_Xqb0\", dd_sequence='', sim_msmt=False, show_circuit=False, send_jobs=True)"
   ],
   "metadata": {
    "collapsed": false,
    "pycharm": {
     "name": "#%%\n"
    }
   }
  },
  {
   "cell_type": "code",
   "execution_count": 24,
   "outputs": [
    {
     "name": "stderr",
     "output_type": "stream",
     "text": [
      "  0%|          | 0/9 [00:00<?, ?it/s]"
     ]
    },
    {
     "name": "stdout",
     "output_type": "stream",
     "text": [
      "entanglement_by_msmt_qbs[0, 2, 4]_sim-msmt_Xqb0_tom[0, 4]_M('X', 'X')\n",
      "EXECUTION\n"
     ]
    },
    {
     "name": "stderr",
     "output_type": "stream",
     "text": [
      "18:34:55 - inspire_experiments.data_utils:INFO - Saving results for job 7166448 in ./data/\n",
      " 11%|█         | 1/9 [00:46<06:13, 46.70s/it]"
     ]
    },
    {
     "name": "stdout",
     "output_type": "stream",
     "text": [
      "entanglement_by_msmt_qbs[0, 2, 4]_sim-msmt_Xqb0_tom[0, 4]_M('X', 'Y')\n",
      "EXECUTION\n"
     ]
    },
    {
     "name": "stderr",
     "output_type": "stream",
     "text": [
      "18:35:41 - inspire_experiments.data_utils:INFO - Saving results for job 7166449 in ./data/\n",
      " 22%|██▏       | 2/9 [01:35<05:34, 47.74s/it]"
     ]
    },
    {
     "name": "stdout",
     "output_type": "stream",
     "text": [
      "entanglement_by_msmt_qbs[0, 2, 4]_sim-msmt_Xqb0_tom[0, 4]_M('X', 'Z')\n",
      "IDLE\n"
     ]
    },
    {
     "name": "stderr",
     "output_type": "stream",
     "text": [
      "18:36:30 - inspire_experiments.data_utils:INFO - Saving results for job 7166450 in ./data/\n",
      " 33%|███▎      | 3/9 [02:22<04:45, 47.57s/it]"
     ]
    },
    {
     "name": "stdout",
     "output_type": "stream",
     "text": [
      "entanglement_by_msmt_qbs[0, 2, 4]_sim-msmt_Xqb0_tom[0, 4]_M('Y', 'X')\n",
      "EXECUTION\n"
     ]
    },
    {
     "name": "stderr",
     "output_type": "stream",
     "text": [
      "18:37:17 - inspire_experiments.data_utils:INFO - Saving results for job 7166451 in ./data/\n",
      " 44%|████▍     | 4/9 [03:10<03:59, 47.82s/it]"
     ]
    },
    {
     "name": "stdout",
     "output_type": "stream",
     "text": [
      "entanglement_by_msmt_qbs[0, 2, 4]_sim-msmt_Xqb0_tom[0, 4]_M('Y', 'Y')\n",
      "IDLE\n"
     ]
    },
    {
     "name": "stderr",
     "output_type": "stream",
     "text": [
      "18:38:05 - inspire_experiments.data_utils:INFO - Saving results for job 7166452 in ./data/\n",
      " 56%|█████▌    | 5/9 [04:45<04:19, 64.75s/it]"
     ]
    },
    {
     "name": "stdout",
     "output_type": "stream",
     "text": [
      "entanglement_by_msmt_qbs[0, 2, 4]_sim-msmt_Xqb0_tom[0, 4]_M('Y', 'Z')\n",
      "IDLE\n"
     ]
    },
    {
     "name": "stderr",
     "output_type": "stream",
     "text": [
      "18:39:40 - inspire_experiments.data_utils:INFO - Saving results for job 7166453 in ./data/\n",
      " 67%|██████▋   | 6/9 [06:21<03:45, 75.25s/it]"
     ]
    },
    {
     "name": "stdout",
     "output_type": "stream",
     "text": [
      "entanglement_by_msmt_qbs[0, 2, 4]_sim-msmt_Xqb0_tom[0, 4]_M('Z', 'X')\n",
      "IDLE\n"
     ]
    },
    {
     "name": "stderr",
     "output_type": "stream",
     "text": [
      "18:41:16 - inspire_experiments.data_utils:INFO - Saving results for job 7166454 in ./data/\n",
      " 78%|███████▊  | 7/9 [07:55<02:42, 81.38s/it]"
     ]
    },
    {
     "name": "stdout",
     "output_type": "stream",
     "text": [
      "entanglement_by_msmt_qbs[0, 2, 4]_sim-msmt_Xqb0_tom[0, 4]_M('Z', 'Y')\n",
      "EXECUTION\n"
     ]
    },
    {
     "name": "stderr",
     "output_type": "stream",
     "text": [
      "18:42:50 - inspire_experiments.data_utils:INFO - Saving results for job 7166455 in ./data/\n",
      " 89%|████████▉ | 8/9 [09:31<01:26, 86.23s/it]"
     ]
    },
    {
     "name": "stdout",
     "output_type": "stream",
     "text": [
      "entanglement_by_msmt_qbs[0, 2, 4]_sim-msmt_Xqb0_tom[0, 4]_M('Z', 'Z')\n",
      "IDLE\n"
     ]
    },
    {
     "name": "stderr",
     "output_type": "stream",
     "text": [
      "18:44:26 - inspire_experiments.data_utils:INFO - Saving results for job 7166456 in ./data/\n",
      "100%|██████████| 9/9 [11:05<00:00, 73.95s/it]\n"
     ]
    }
   ],
   "source": [
    "jobs2, circuits2 = measure_entanglement_by_msmt([0,2,4], tomo_qubits=[0,4], extra_label=\"_Xqb0\", send_jobs=True, sim_msmt=True, show_circuit=False)"
   ],
   "metadata": {
    "collapsed": false,
    "pycharm": {
     "name": "#%%\n"
    }
   }
  },
  {
   "cell_type": "markdown",
   "source": [
    "## readout correction calibration points"
   ],
   "metadata": {
    "collapsed": false,
    "pycharm": {
     "name": "#%% md\n"
    }
   }
  },
  {
   "cell_type": "code",
   "execution_count": 25,
   "outputs": [
    {
     "name": "stderr",
     "output_type": "stream",
     "text": [
      "  0%|          | 0/4 [00:00<?, ?it/s]18:45:59 - inspire_experiments.experiment_library:INFO - readout_correction_qbs[0, 4]_Xqb0_state00\n",
      "18:46:00 - inspire_experiments.experiment_library:INFO - Backend state: EXECUTION\n",
      "18:46:00 - inspire_experiments.experiment_library:INFO - Measuring readout correction: state ('0', '0')\n",
      "18:46:00 - inspire_experiments.data_utils:INFO - Saving results for job 7166457 in ./data/\n",
      " 25%|██▌       | 1/4 [01:35<04:45, 95.29s/it]18:47:35 - inspire_experiments.experiment_library:INFO - readout_correction_qbs[0, 4]_Xqb0_state01\n",
      "18:47:35 - inspire_experiments.experiment_library:INFO - Backend state: IDLE\n",
      "18:47:35 - inspire_experiments.experiment_library:INFO - Measuring readout correction: state ('0', '1')\n",
      "18:47:35 - inspire_experiments.data_utils:INFO - Saving results for job 7166458 in ./data/\n",
      " 50%|█████     | 2/4 [03:09<03:09, 94.51s/it]18:49:09 - inspire_experiments.experiment_library:INFO - readout_correction_qbs[0, 4]_Xqb0_state10\n",
      "18:49:09 - inspire_experiments.experiment_library:INFO - Backend state: IDLE\n",
      "18:49:09 - inspire_experiments.experiment_library:INFO - Measuring readout correction: state ('1', '0')\n",
      "18:49:09 - inspire_experiments.data_utils:INFO - Saving results for job 7166459 in ./data/\n",
      " 75%|███████▌  | 3/4 [04:45<01:35, 95.16s/it]18:50:45 - inspire_experiments.experiment_library:INFO - readout_correction_qbs[0, 4]_Xqb0_state11\n",
      "18:50:45 - inspire_experiments.experiment_library:INFO - Backend state: EXECUTION\n",
      "18:50:45 - inspire_experiments.experiment_library:INFO - Measuring readout correction: state ('1', '1')\n",
      "18:50:45 - inspire_experiments.data_utils:INFO - Saving results for job 7166460 in ./data/\n",
      "100%|██████████| 4/4 [06:19<00:00, 94.89s/it]\n"
     ]
    },
    {
     "data": {
      "text/plain": "([<quantuminspire.qiskit.qi_job.QIJob at 0x7f2df3f09b70>,\n  <quantuminspire.qiskit.qi_job.QIJob at 0x7f2df89abcd0>,\n  <quantuminspire.qiskit.qi_job.QIJob at 0x7f2df8b53bb0>,\n  <quantuminspire.qiskit.qi_job.QIJob at 0x7f2df3f08070>],\n [<qiskit.circuit.quantumcircuit.QuantumCircuit at 0x7f2df3f0b3a0>,\n  <qiskit.circuit.quantumcircuit.QuantumCircuit at 0x7f2df807dc60>,\n  <qiskit.circuit.quantumcircuit.QuantumCircuit at 0x7f2df3f08fd0>,\n  <qiskit.circuit.quantumcircuit.QuantumCircuit at 0x7f2df3f09f60>])"
     },
     "execution_count": 25,
     "metadata": {},
     "output_type": "execute_result"
    }
   ],
   "source": [
    "measure_readout_correction(qubits=[0,4], extra_label=\"_Xqb0\", backend=backend, send_jobs=True, show_circuit=False)"
   ],
   "metadata": {
    "collapsed": false,
    "pycharm": {
     "name": "#%%\n"
    }
   }
  },
  {
   "cell_type": "code",
   "execution_count": 12,
   "outputs": [
    {
     "data": {
      "text/plain": "['DEFAULT_CONFIGURATION',\n '_QuantumInspireBackend__api',\n '_QuantumInspireBackend__backend',\n '_QuantumInspireBackend__convert_histogram',\n '_QuantumInspireBackend__convert_result_data',\n '_QuantumInspireBackend__convert_result_multiple_shots',\n '_QuantumInspireBackend__convert_result_single_shot',\n '_QuantumInspireBackend__raw_qubit_register_to_raw_data_value',\n '_QuantumInspireBackend__validate_full_state_projection',\n '_QuantumInspireBackend__validate_nr_of_clbits_conditional_gates',\n '_QuantumInspireBackend__validate_number_of_shots',\n '__abstractmethods__',\n '__class__',\n '__delattr__',\n '__dict__',\n '__dir__',\n '__doc__',\n '__eq__',\n '__format__',\n '__ge__',\n '__getattribute__',\n '__gt__',\n '__hash__',\n '__init__',\n '__init_subclass__',\n '__le__',\n '__lt__',\n '__module__',\n '__ne__',\n '__new__',\n '__reduce__',\n '__reduce_ex__',\n '__repr__',\n '__setattr__',\n '__sizeof__',\n '__slots__',\n '__str__',\n '__subclasshook__',\n '__weakref__',\n '_abc_impl',\n '_configuration',\n '_default_options',\n '_generate_cqasm',\n '_get_experiment_results',\n '_get_run_config',\n '_options',\n '_provider',\n '_submit_experiment',\n 'backend_name',\n 'configuration',\n 'get_experiment_results_from_all_jobs',\n 'get_experiment_results_from_latest_run',\n 'name',\n 'options',\n 'properties',\n 'provider',\n 'qobj_warning_issued',\n 'retrieve_job',\n 'run',\n 'set_options',\n 'status',\n 'version']"
     },
     "execution_count": 12,
     "metadata": {},
     "output_type": "execute_result"
    }
   ],
   "source": [
    "dir(backend)\n"
   ],
   "metadata": {
    "collapsed": false,
    "pycharm": {
     "name": "#%%\n"
    }
   }
  }
 ],
 "metadata": {
  "kernelspec": {
   "name": "conda-env-sci_py310-py",
   "language": "python",
   "display_name": "Python [conda env:sci_py310] *"
  },
  "language_info": {
   "codemirror_mode": {
    "name": "ipython",
    "version": 3
   },
   "file_extension": ".py",
   "mimetype": "text/x-python",
   "name": "python",
   "nbconvert_exporter": "python",
   "pygments_lexer": "ipython3",
   "version": "3.8.8"
  },
  "toc-autonumbering": true,
  "toc-showcode": false,
  "toc-showmarkdowntxt": false
 },
 "nbformat": 4,
 "nbformat_minor": 5
}