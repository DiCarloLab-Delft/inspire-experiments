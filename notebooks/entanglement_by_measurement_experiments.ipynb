{
 "cells": [
  {
   "cell_type": "markdown",
   "id": "987f6142-4fde-40b4-8c24-cf8852659032",
   "metadata": {
    "pycharm": {
     "name": "#%% md\n"
    }
   },
   "source": [
    "# Repeated measurements on Starmon-5"
   ]
  },
  {
   "cell_type": "code",
   "execution_count": 1,
   "outputs": [
    {
     "data": {
      "text/plain": "<IPython.core.display.HTML object>",
      "text/html": "<h3>Version Information</h3><table><tr><th>Qiskit Software</th><th>Version</th></tr><tr><td><code>qiskit-terra</code></td><td>0.20.2</td></tr><tr><td><code>qiskit-aer</code></td><td>0.10.4</td></tr><tr><td><code>qiskit-ignis</code></td><td>0.7.1</td></tr><tr><td><code>qiskit-ibmq-provider</code></td><td>0.19.1</td></tr><tr><td><code>qiskit-aqua</code></td><td>0.9.5</td></tr><tr><td><code>qiskit</code></td><td>0.36.2</td></tr><tr><td><code>qiskit-optimization</code></td><td>0.2.3</td></tr><tr><th>System information</th></tr><tr><td>Python version</td><td>3.8.8</td></tr><tr><td>Python compiler</td><td>GCC 7.3.0</td></tr><tr><td>Python build</td><td>default, Apr 13 2021 19:58:26</td></tr><tr><td>OS</td><td>Linux</td></tr><tr><td>CPUs</td><td>4</td></tr><tr><td>Memory (Gb)</td><td>31.078449249267578</td></tr><tr><td colspan='2'>Tue Aug 16 16:55:33 2022 CEST</td></tr></table>"
     },
     "metadata": {},
     "output_type": "display_data"
    }
   ],
   "source": [
    "from typing import List\n",
    "from tqdm import tqdm\n",
    "import numpy as np\n",
    "import itertools as it\n",
    "\n",
    "import qiskit\n",
    "import qiskit.tools.jupyter\n",
    "from qiskit import QuantumCircuit\n",
    "import qiskit.circuit.library.standard_gates as gates\n",
    "\n",
    "\n",
    "from importlib import reload\n",
    "import inspire_experiments\n",
    "reload(inspire_experiments)\n",
    "from inspire_experiments import ExperimentData, get_starmon_status, inspire_login, get_file_header, measure_readout_correction\n",
    "\n",
    "# %matplotlib notebook\n",
    "%matplotlib inline\n",
    "%qiskit_version_table"
   ],
   "metadata": {
    "collapsed": false,
    "pycharm": {
     "name": "#%%\n"
    }
   }
  },
  {
   "cell_type": "code",
   "execution_count": 2,
   "outputs": [
    {
     "name": "stdout",
     "output_type": "stream",
     "text": [
      "Backend status:  EXECUTION\n"
     ]
    },
    {
     "data": {
      "text/plain": "<qiskit.providers.models.backendstatus.BackendStatus at 0x7fc364734fd0>",
      "text/html": "<pre>&lt;qiskit.providers.models.backendstatus.BackendStatus object at 0x7fc364734fd0&gt;</pre><b>name</b>: Starmon-5<br/><b>version</b>: 2.0.0, <b>pending jobs</b>: 0<br/><b>status</b>: <br/>"
     },
     "execution_count": 2,
     "metadata": {},
     "output_type": "execute_result"
    }
   ],
   "source": [
    "api, backend = inspire_login()\n",
    "backend.status()"
   ],
   "metadata": {
    "collapsed": false,
    "pycharm": {
     "name": "#%%\n"
    }
   }
  },
  {
   "cell_type": "code",
   "execution_count": 11,
   "outputs": [
    {
     "data": {
      "text/plain": "'EXECUTION'"
     },
     "execution_count": 11,
     "metadata": {},
     "output_type": "execute_result"
    }
   ],
   "source": [
    "get_starmon_status(api)"
   ],
   "metadata": {
    "collapsed": false,
    "pycharm": {
     "name": "#%%\n"
    }
   }
  },
  {
   "cell_type": "markdown",
   "source": [
    "## Entanglement by msmt\n"
   ],
   "metadata": {
    "collapsed": false,
    "pycharm": {
     "name": "#%% md\n"
    }
   }
  },
  {
   "cell_type": "code",
   "execution_count": 9,
   "outputs": [],
   "source": [
    "def measure_entanglement_by_msmt(\n",
    "        qubits: List[int],\n",
    "        tomo_qubits: List[int]=[],\n",
    "        sim_msmt: bool=True,\n",
    "        exp_basename: str=\"entanglement_by_msmt\",\n",
    "        extra_label: str=None,\n",
    "        show_circuit: bool=False,\n",
    "        send_jobs: bool=True\n",
    "):\n",
    "    jobs = []\n",
    "    circuits = []\n",
    "    if tomo_qubits:\n",
    "        tomo_gates = {'X': gates.RYGate(-np.pi/2), 'Y': gates.RXGate(np.pi/2), 'Z': gates.IGate()}\n",
    "        tomo_combinations = list(it.product(tomo_gates.keys(), repeat=len(tomo_qubits)))\n",
    "    else:\n",
    "        tomo_combinations = ['Z']\n",
    "\n",
    "    for tomo_option in tqdm(tomo_combinations, total=len(tomo_combinations)):\n",
    "        circuit = QuantumCircuit(5,5)\n",
    "        # circuit.rx(np.pi/2, qubits[1])\n",
    "        # circuit.ry(-np.pi/2, qubits[0])\n",
    "        # circuit.ry(-np.pi/2, qubits[2])\n",
    "\n",
    "        for qb in qubits:\n",
    "            circuit.ry(np.pi/2, qb)\n",
    "\n",
    "        circuit.barrier(range(5))\n",
    "        circuit.cz(qubits[1], qubits[0])\n",
    "        circuit.id(qubits[1])\n",
    "        # circuit.id(qubits[1])\n",
    "        circuit.cz(qubits[1], qubits[2])\n",
    "        circuit.barrier(range(5))\n",
    "\n",
    "        for qb in qubits:\n",
    "            circuit.ry(-np.pi/2, qb)\n",
    "\n",
    "        # circuit.rx(np.pi/2, qubits[1])\n",
    "        # circuit.ry(np.pi/2, qubits[0])\n",
    "        # circuit.ry(np.pi/2, qubits[2])\n",
    "        circuit.barrier(range(5))\n",
    "        if qubits[1] in tomo_qubits:\n",
    "            idx = tomo_qubits.index(qubits[1])\n",
    "            circuit.append(tomo_gates[tomo_option[idx]], [qubits[1]])\n",
    "        elif sim_msmt:\n",
    "            circuit.id(qubits[1])\n",
    "        circuit.measure(qubits[1], qubits[1])\n",
    "\n",
    "\n",
    "        # for qb in set(qubits).intersection(tomo_qubits):\n",
    "        #     idx = tomo_qubits.index(qb)\n",
    "        #     circuit.append(tomo_gates[tomo_option[idx]], [qb])\n",
    "        #     circuit.measure(qb, qb)\n",
    "\n",
    "        if not sim_msmt:\n",
    "            # add waiting time via ID gates on data qubits\n",
    "            for _ in range(100):\n",
    "                circuit.id(qubits[0])\n",
    "                circuit.id(qubits[-1])\n",
    "            circuit.barrier(range(5))\n",
    "\n",
    "        # for qb in set(qubits).difference(tomo_qubits):\n",
    "        #     circuit.id(qb)\n",
    "        #     circuit.measure(qb, qb)\n",
    "\n",
    "        if qubits[0] in tomo_qubits:\n",
    "            idx = tomo_qubits.index(qubits[0])\n",
    "            circuit.append(tomo_gates[tomo_option[idx]], [qubits[0]])\n",
    "        elif sim_msmt:\n",
    "            circuit.id(qubits[0])\n",
    "        circuit.measure(qubits[0], qubits[0])\n",
    "\n",
    "        if qubits[2] in tomo_qubits:\n",
    "            idx = tomo_qubits.index(qubits[2])\n",
    "            circuit.append(tomo_gates[tomo_option[idx]], [qubits[2]])\n",
    "        elif sim_msmt:\n",
    "            circuit.id(qubits[2])\n",
    "        circuit.measure(qubits[2], qubits[2])\n",
    "\n",
    "        if show_circuit:\n",
    "            display(circuit.draw(output='mpl', scale=1))\n",
    "        circuits += [circuit]\n",
    "\n",
    "        exp_name = exp_basename + f\"_qbs{qubits}\"\n",
    "        exp_name = exp_name + \"_sim-msmt\" if sim_msmt else exp_name\n",
    "        exp_name = exp_name + extra_label if extra_label else exp_name\n",
    "        exp_name = exp_name + f\"_tom{tomo_qubits}\" + f\"_M{tomo_option}\" if tomo_qubits else exp_name\n",
    "        print(exp_name)\n",
    "\n",
    "        if send_jobs:\n",
    "            header = get_file_header(circuit)\n",
    "            print(get_starmon_status(api))\n",
    "            job = qiskit.execute(circuit, shots=2**14, optimization_level=0, backend=backend)\n",
    "            ExperimentData.save_job_result(job, exp_name, header)\n",
    "            jobs += [job]\n",
    "\n",
    "    return jobs, circuits\n"
   ],
   "metadata": {
    "collapsed": false,
    "pycharm": {
     "name": "#%%\n"
    }
   }
  },
  {
   "cell_type": "code",
   "execution_count": 12,
   "outputs": [
    {
     "name": "stderr",
     "output_type": "stream",
     "text": [
      "  0%|          | 0/9 [00:00<?, ?it/s]"
     ]
    },
    {
     "name": "stdout",
     "output_type": "stream",
     "text": [
      "entanglement_by_msmt_qbs[0, 2, 4]_tom[0, 4]_M('X', 'X')\n",
      "EXECUTION\n"
     ]
    },
    {
     "name": "stderr",
     "output_type": "stream",
     "text": [
      "17:10:28 - inspire_experiments.data_utils:INFO - Saving results for job 7164760 in ./data/\n",
      " 11%|█         | 1/9 [01:20<10:45, 80.64s/it]"
     ]
    },
    {
     "name": "stdout",
     "output_type": "stream",
     "text": [
      "entanglement_by_msmt_qbs[0, 2, 4]_tom[0, 4]_M('X', 'Y')\n",
      "EXECUTION\n"
     ]
    },
    {
     "name": "stderr",
     "output_type": "stream",
     "text": [
      "17:11:49 - inspire_experiments.data_utils:INFO - Saving results for job 7164761 in ./data/\n",
      " 22%|██▏       | 2/9 [02:55<10:23, 89.04s/it]"
     ]
    },
    {
     "name": "stdout",
     "output_type": "stream",
     "text": [
      "entanglement_by_msmt_qbs[0, 2, 4]_tom[0, 4]_M('X', 'Z')\n",
      "EXECUTION\n"
     ]
    },
    {
     "name": "stderr",
     "output_type": "stream",
     "text": [
      "17:13:24 - inspire_experiments.data_utils:INFO - Saving results for job 7164762 in ./data/\n",
      " 33%|███▎      | 3/9 [04:29<09:08, 91.34s/it]"
     ]
    },
    {
     "name": "stdout",
     "output_type": "stream",
     "text": [
      "entanglement_by_msmt_qbs[0, 2, 4]_tom[0, 4]_M('Y', 'X')\n",
      "EXECUTION\n"
     ]
    },
    {
     "name": "stderr",
     "output_type": "stream",
     "text": [
      "17:14:58 - inspire_experiments.data_utils:INFO - Saving results for job 7164764 in ./data/\n",
      " 44%|████▍     | 4/9 [06:04<07:43, 92.78s/it]"
     ]
    },
    {
     "name": "stdout",
     "output_type": "stream",
     "text": [
      "entanglement_by_msmt_qbs[0, 2, 4]_tom[0, 4]_M('Y', 'Y')\n",
      "IDLE\n"
     ]
    },
    {
     "name": "stderr",
     "output_type": "stream",
     "text": [
      "17:16:33 - inspire_experiments.data_utils:INFO - Saving results for job 7164765 in ./data/\n",
      " 56%|█████▌    | 5/9 [06:58<05:14, 78.67s/it]"
     ]
    },
    {
     "name": "stdout",
     "output_type": "stream",
     "text": [
      "entanglement_by_msmt_qbs[0, 2, 4]_tom[0, 4]_M('Y', 'Z')\n",
      "IDLE\n"
     ]
    },
    {
     "name": "stderr",
     "output_type": "stream",
     "text": [
      "17:17:27 - inspire_experiments.data_utils:INFO - Saving results for job 7164766 in ./data/\n",
      " 67%|██████▋   | 6/9 [07:49<03:28, 69.46s/it]"
     ]
    },
    {
     "name": "stdout",
     "output_type": "stream",
     "text": [
      "entanglement_by_msmt_qbs[0, 2, 4]_tom[0, 4]_M('Z', 'X')\n",
      "IDLE\n"
     ]
    },
    {
     "name": "stderr",
     "output_type": "stream",
     "text": [
      "17:18:18 - inspire_experiments.data_utils:INFO - Saving results for job 7164767 in ./data/\n",
      " 78%|███████▊  | 7/9 [08:43<02:08, 64.21s/it]"
     ]
    },
    {
     "name": "stdout",
     "output_type": "stream",
     "text": [
      "entanglement_by_msmt_qbs[0, 2, 4]_tom[0, 4]_M('Z', 'Y')\n",
      "IDLE\n"
     ]
    },
    {
     "name": "stderr",
     "output_type": "stream",
     "text": [
      "17:19:11 - inspire_experiments.data_utils:INFO - Saving results for job 7164768 in ./data/\n",
      " 89%|████████▉ | 8/9 [09:36<01:00, 60.66s/it]"
     ]
    },
    {
     "name": "stdout",
     "output_type": "stream",
     "text": [
      "entanglement_by_msmt_qbs[0, 2, 4]_tom[0, 4]_M('Z', 'Z')\n",
      "IDLE\n"
     ]
    },
    {
     "name": "stderr",
     "output_type": "stream",
     "text": [
      "17:20:04 - inspire_experiments.data_utils:INFO - Saving results for job 7164769 in ./data/\n",
      "100%|██████████| 9/9 [10:29<00:00, 69.97s/it]\n"
     ]
    }
   ],
   "source": [
    "jobs, circuits = measure_entanglement_by_msmt([0,2,4], tomo_qubits=[0,4], send_jobs=True, sim_msmt=False, show_circuit=False)"
   ],
   "metadata": {
    "collapsed": false,
    "pycharm": {
     "name": "#%%\n"
    }
   }
  },
  {
   "cell_type": "code",
   "execution_count": 13,
   "outputs": [
    {
     "name": "stderr",
     "output_type": "stream",
     "text": [
      "  0%|          | 0/9 [00:00<?, ?it/s]"
     ]
    },
    {
     "name": "stdout",
     "output_type": "stream",
     "text": [
      "entanglement_by_msmt_qbs[0, 2, 4]_sim-msmt_tom[0, 4]_M('X', 'X')\n",
      "IDLE\n"
     ]
    },
    {
     "name": "stderr",
     "output_type": "stream",
     "text": [
      "17:20:58 - inspire_experiments.data_utils:INFO - Saving results for job 7164770 in ./data/\n",
      " 11%|█         | 1/9 [00:47<06:20, 47.54s/it]"
     ]
    },
    {
     "name": "stdout",
     "output_type": "stream",
     "text": [
      "entanglement_by_msmt_qbs[0, 2, 4]_sim-msmt_tom[0, 4]_M('X', 'Y')\n",
      "IDLE\n"
     ]
    },
    {
     "name": "stderr",
     "output_type": "stream",
     "text": [
      "17:21:45 - inspire_experiments.data_utils:INFO - Saving results for job 7164771 in ./data/\n",
      " 22%|██▏       | 2/9 [01:38<05:45, 49.43s/it]"
     ]
    },
    {
     "name": "stdout",
     "output_type": "stream",
     "text": [
      "entanglement_by_msmt_qbs[0, 2, 4]_sim-msmt_tom[0, 4]_M('X', 'Z')\n",
      "IDLE\n"
     ]
    },
    {
     "name": "stderr",
     "output_type": "stream",
     "text": [
      "17:22:36 - inspire_experiments.data_utils:INFO - Saving results for job 7164772 in ./data/\n",
      " 33%|███▎      | 3/9 [02:24<04:47, 47.87s/it]"
     ]
    },
    {
     "name": "stdout",
     "output_type": "stream",
     "text": [
      "entanglement_by_msmt_qbs[0, 2, 4]_sim-msmt_tom[0, 4]_M('Y', 'X')\n",
      "IDLE\n"
     ]
    },
    {
     "name": "stderr",
     "output_type": "stream",
     "text": [
      "17:23:23 - inspire_experiments.data_utils:INFO - Saving results for job 7164773 in ./data/\n",
      " 44%|████▍     | 4/9 [03:16<04:07, 49.45s/it]"
     ]
    },
    {
     "name": "stdout",
     "output_type": "stream",
     "text": [
      "entanglement_by_msmt_qbs[0, 2, 4]_sim-msmt_tom[0, 4]_M('Y', 'Y')\n",
      "IDLE\n"
     ]
    },
    {
     "name": "stderr",
     "output_type": "stream",
     "text": [
      "17:24:14 - inspire_experiments.data_utils:INFO - Saving results for job 7164774 in ./data/\n",
      " 56%|█████▌    | 5/9 [04:07<03:20, 50.13s/it]"
     ]
    },
    {
     "name": "stdout",
     "output_type": "stream",
     "text": [
      "entanglement_by_msmt_qbs[0, 2, 4]_sim-msmt_tom[0, 4]_M('Y', 'Z')\n",
      "IDLE\n"
     ]
    },
    {
     "name": "stderr",
     "output_type": "stream",
     "text": [
      "17:25:05 - inspire_experiments.data_utils:INFO - Saving results for job 7164775 in ./data/\n",
      " 67%|██████▋   | 6/9 [04:58<02:31, 50.48s/it]"
     ]
    },
    {
     "name": "stdout",
     "output_type": "stream",
     "text": [
      "entanglement_by_msmt_qbs[0, 2, 4]_sim-msmt_tom[0, 4]_M('Z', 'X')\n",
      "IDLE\n"
     ]
    },
    {
     "name": "stderr",
     "output_type": "stream",
     "text": [
      "17:25:56 - inspire_experiments.data_utils:INFO - Saving results for job 7164776 in ./data/\n",
      " 78%|███████▊  | 7/9 [05:48<01:40, 50.41s/it]"
     ]
    },
    {
     "name": "stdout",
     "output_type": "stream",
     "text": [
      "entanglement_by_msmt_qbs[0, 2, 4]_sim-msmt_tom[0, 4]_M('Z', 'Y')\n",
      "EXECUTION\n"
     ]
    },
    {
     "name": "stderr",
     "output_type": "stream",
     "text": [
      "17:26:47 - inspire_experiments.data_utils:INFO - Saving results for job 7164777 in ./data/\n",
      " 89%|████████▉ | 8/9 [06:35<00:49, 49.19s/it]"
     ]
    },
    {
     "name": "stdout",
     "output_type": "stream",
     "text": [
      "entanglement_by_msmt_qbs[0, 2, 4]_sim-msmt_tom[0, 4]_M('Z', 'Z')\n",
      "IDLE\n"
     ]
    },
    {
     "name": "stderr",
     "output_type": "stream",
     "text": [
      "17:27:33 - inspire_experiments.data_utils:INFO - Saving results for job 7164778 in ./data/\n",
      "100%|██████████| 9/9 [07:27<00:00, 49.78s/it]\n"
     ]
    }
   ],
   "source": [
    "jobs2, circuits2 = measure_entanglement_by_msmt([0,2,4], tomo_qubits=[0,4], send_jobs=True, sim_msmt=True, show_circuit=False)"
   ],
   "metadata": {
    "collapsed": false,
    "pycharm": {
     "name": "#%%\n"
    }
   }
  },
  {
   "cell_type": "code",
   "execution_count": 14,
   "outputs": [
    {
     "name": "stderr",
     "output_type": "stream",
     "text": [
      "17:28:25 - inspire_experiments.experiment_library:INFO - readout_correction_qbs[0, 4]_state00\n",
      "17:28:25 - inspire_experiments.experiment_library:INFO - Measuring readout correction: state ('0', '0')\n",
      "17:28:26 - inspire_experiments.data_utils:INFO - Saving results for job 7164779 in ./data/\n",
      "17:29:16 - inspire_experiments.experiment_library:INFO - readout_correction_qbs[0, 4]_state01\n",
      "17:29:16 - inspire_experiments.experiment_library:INFO - Measuring readout correction: state ('0', '1')\n",
      "17:29:17 - inspire_experiments.data_utils:INFO - Saving results for job 7164780 in ./data/\n",
      "17:30:08 - inspire_experiments.experiment_library:INFO - readout_correction_qbs[0, 4]_state10\n",
      "17:30:08 - inspire_experiments.experiment_library:INFO - Measuring readout correction: state ('1', '0')\n",
      "17:30:08 - inspire_experiments.data_utils:INFO - Saving results for job 7164781 in ./data/\n",
      "17:30:59 - inspire_experiments.experiment_library:INFO - readout_correction_qbs[0, 4]_state11\n",
      "17:30:59 - inspire_experiments.experiment_library:INFO - Measuring readout correction: state ('1', '1')\n",
      "17:30:59 - inspire_experiments.data_utils:INFO - Saving results for job 7164782 in ./data/\n"
     ]
    },
    {
     "data": {
      "text/plain": "([<quantuminspire.qiskit.qi_job.QIJob at 0x7fc36028aca0>,\n  <quantuminspire.qiskit.qi_job.QIJob at 0x7fc357d02910>,\n  <quantuminspire.qiskit.qi_job.QIJob at 0x7fc358d9b4c0>,\n  <quantuminspire.qiskit.qi_job.QIJob at 0x7fc359363730>],\n [<qiskit.circuit.quantumcircuit.QuantumCircuit at 0x7fc359363190>,\n  <qiskit.circuit.quantumcircuit.QuantumCircuit at 0x7fc35965e970>,\n  <qiskit.circuit.quantumcircuit.QuantumCircuit at 0x7fc360e289a0>,\n  <qiskit.circuit.quantumcircuit.QuantumCircuit at 0x7fc360533760>])"
     },
     "execution_count": 14,
     "metadata": {},
     "output_type": "execute_result"
    }
   ],
   "source": [
    "measure_readout_correction(qubits=[0,4], backend=backend, send_jobs=True, show_circuit=False)"
   ],
   "metadata": {
    "collapsed": false,
    "pycharm": {
     "name": "#%%\n"
    }
   }
  },
  {
   "cell_type": "code",
   "execution_count": null,
   "outputs": [],
   "source": [],
   "metadata": {
    "collapsed": false,
    "pycharm": {
     "name": "#%%\n"
    }
   }
  }
 ],
 "metadata": {
  "kernelspec": {
   "display_name": "Python [conda env:qi-py38]",
   "language": "python",
   "name": "conda-env-qi-py38-py"
  },
  "language_info": {
   "codemirror_mode": {
    "name": "ipython",
    "version": 3
   },
   "file_extension": ".py",
   "mimetype": "text/x-python",
   "name": "python",
   "nbconvert_exporter": "python",
   "pygments_lexer": "ipython3",
   "version": "3.8.8"
  },
  "toc-autonumbering": true,
  "toc-showcode": false,
  "toc-showmarkdowntxt": false
 },
 "nbformat": 4,
 "nbformat_minor": 5
}