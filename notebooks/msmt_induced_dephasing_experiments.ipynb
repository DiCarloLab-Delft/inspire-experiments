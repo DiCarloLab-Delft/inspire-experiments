{
 "cells": [
  {
   "cell_type": "markdown",
   "id": "987f6142-4fde-40b4-8c24-cf8852659032",
   "metadata": {
    "pycharm": {
     "name": "#%% md\n"
    }
   },
   "source": [
    "# Measurement-induced dephasing on Starmon-5"
   ]
  },
  {
   "cell_type": "code",
   "execution_count": 7,
   "outputs": [
    {
     "ename": "ImportError",
     "evalue": "cannot import name 'measure_readout_correction' from 'inspire_experiments' (/media/redwombat/DataNVME/Sciebo/Uni/TUDELFT/QuantumInspire/Starmon-5/src/inspire-experiments/inspire_experiments/__init__.py)",
     "output_type": "error",
     "traceback": [
      "\u001B[0;31m---------------------------------------------------------------------------\u001B[0m",
      "\u001B[0;31mImportError\u001B[0m                               Traceback (most recent call last)",
      "\u001B[0;32m/tmp/ipykernel_33273/3311880776.py\u001B[0m in \u001B[0;36m<module>\u001B[0;34m\u001B[0m\n\u001B[1;32m     22\u001B[0m \u001B[0;32mimport\u001B[0m \u001B[0minspire_experiments\u001B[0m\u001B[0;34m\u001B[0m\u001B[0;34m\u001B[0m\u001B[0m\n\u001B[1;32m     23\u001B[0m \u001B[0mreload\u001B[0m\u001B[0;34m(\u001B[0m\u001B[0minspire_experiments\u001B[0m\u001B[0;34m)\u001B[0m\u001B[0;34m\u001B[0m\u001B[0;34m\u001B[0m\u001B[0m\n\u001B[0;32m---> 24\u001B[0;31m \u001B[0;32mfrom\u001B[0m \u001B[0minspire_experiments\u001B[0m \u001B[0;32mimport\u001B[0m \u001B[0mExperimentData\u001B[0m\u001B[0;34m,\u001B[0m \u001B[0mget_starmon_status\u001B[0m\u001B[0;34m,\u001B[0m \u001B[0minspire_login\u001B[0m\u001B[0;34m,\u001B[0m \u001B[0mget_file_header\u001B[0m\u001B[0;34m,\u001B[0m \u001B[0mmeasure_readout_correction\u001B[0m\u001B[0;34m\u001B[0m\u001B[0;34m\u001B[0m\u001B[0m\n\u001B[0m\u001B[1;32m     25\u001B[0m \u001B[0;34m\u001B[0m\u001B[0m\n\u001B[1;32m     26\u001B[0m \u001B[0;31m# %matplotlib notebook\u001B[0m\u001B[0;34m\u001B[0m\u001B[0;34m\u001B[0m\u001B[0;34m\u001B[0m\u001B[0m\n",
      "\u001B[0;31mImportError\u001B[0m: cannot import name 'measure_readout_correction' from 'inspire_experiments' (/media/redwombat/DataNVME/Sciebo/Uni/TUDELFT/QuantumInspire/Starmon-5/src/inspire-experiments/inspire_experiments/__init__.py)"
     ]
    }
   ],
   "source": [
    "import time\n",
    "import json\n",
    "\n",
    "import numpy as np\n",
    "import pandas as pd\n",
    "import matplotlib.pyplot as plt\n",
    "from pprint import pprint\n",
    "from typing import List\n",
    "import itertools as it\n",
    "\n",
    "import qiskit\n",
    "import qiskit.tools.jupyter\n",
    "from qiskit import QuantumCircuit\n",
    "import qiskit.circuit.library.standard_gates as gates\n",
    "from qiskit.tools.visualization import circuit_drawer, plot_histogram\n",
    "\n",
    "# from alive_progress import alive_it, alive_bar\n",
    "from tqdm import tqdm\n",
    "\n",
    "import pyperclip as clip\n",
    "from importlib import reload\n",
    "import inspire_experiments\n",
    "reload(inspire_experiments)\n",
    "from inspire_experiments import ExperimentData, get_starmon_status, inspire_login, get_file_header, measure_readout_correction\n",
    "\n",
    "# %matplotlib notebook\n",
    "%matplotlib inline\n",
    "%qiskit_version_table"
   ],
   "metadata": {
    "collapsed": false,
    "pycharm": {
     "name": "#%%\n"
    }
   }
  },
  {
   "cell_type": "code",
   "execution_count": 2,
   "outputs": [
    {
     "name": "stdout",
     "output_type": "stream",
     "text": [
      "Backend status:  IDLE\n"
     ]
    },
    {
     "data": {
      "text/plain": "<qiskit.providers.models.backendstatus.BackendStatus at 0x7f244d1ed190>",
      "text/html": "<pre>&lt;qiskit.providers.models.backendstatus.BackendStatus object at 0x7f244d1ed190&gt;</pre><b>name</b>: Starmon-5<br/><b>version</b>: 2.0.0, <b>pending jobs</b>: 0<br/><b>status</b>: <br/>"
     },
     "execution_count": 2,
     "metadata": {},
     "output_type": "execute_result"
    }
   ],
   "source": [
    "api, backend = inspire_login()\n",
    "backend.status()"
   ],
   "metadata": {
    "collapsed": false,
    "pycharm": {
     "name": "#%%\n"
    }
   }
  },
  {
   "cell_type": "code",
   "execution_count": 3,
   "outputs": [
    {
     "data": {
      "text/plain": "'IDLE'"
     },
     "execution_count": 3,
     "metadata": {},
     "output_type": "execute_result"
    }
   ],
   "source": [
    "get_starmon_status(api)"
   ],
   "metadata": {
    "collapsed": false,
    "pycharm": {
     "name": "#%%\n"
    }
   }
  },
  {
   "cell_type": "markdown",
   "source": [
    "## Measurements"
   ],
   "metadata": {
    "collapsed": false,
    "pycharm": {
     "name": "#%% md\n"
    }
   }
  },
  {
   "cell_type": "code",
   "execution_count": 4,
   "outputs": [],
   "source": [
    "def measure_msmt_induced_dephasing(\n",
    "        measured_qb: int,\n",
    "        tested_qb: int=None,\n",
    "        tested_qb_state: str='',\n",
    "        id_gates: bool=True,\n",
    "        do_tomography: bool=True,\n",
    "        tomography_on_equator: bool=True,\n",
    "        exp_basename: str=\"msmt_induced_dephasing\",\n",
    "        extra_label: str=None,\n",
    "        show_circuit: bool=False,\n",
    "        send_jobs: bool=True\n",
    "):\n",
    "    jobs = []\n",
    "    circuits = []\n",
    "    if do_tomography:\n",
    "        # tomo_gates = {'X': ('ry', -np.pi/2), 'Y': ('rx', np.pi/2), 'Z': ('id',  None)}\n",
    "        tomo_gates = {'X': gates.RYGate(-np.pi/2), 'Y': gates.RXGate(np.pi/2), 'Z': gates.IGate()}\n",
    "    else:\n",
    "        # tomo_gates = {'Z': ('id', None)}\n",
    "        tomo_gates = {'Z': gates.IGate()}\n",
    "\n",
    "    for tomo_option, gate in tomo_gates.items():\n",
    "        circuit = QuantumCircuit(5,5)\n",
    "        circuit.rx(np.pi/2, measured_qb)\n",
    "        if tested_qb is not None: # can't autocast here, qb can be 0!\n",
    "            if tested_qb_state == '' or tested_qb_state == '0':\n",
    "                circuit.id(tested_qb)\n",
    "            elif tested_qb_state == '1':\n",
    "                circuit.x(tested_qb)\n",
    "            elif tested_qb_state == '+':\n",
    "                circuit.ry(np.pi/2, tested_qb)\n",
    "            else:\n",
    "                raise ValueError(f\"State of tested qubit {tested_qb_state} unknown!\")\n",
    "        circuit.barrier(range(5))\n",
    "        if tested_qb is not None: # can't autocast here, qb can be 0!\n",
    "            circuit.measure(tested_qb, tested_qb)\n",
    "        if id_gates:\n",
    "            # 100 x 20ns ID gate = 2mus = msmt length\n",
    "            for _ in range(100):\n",
    "                circuit.id(measured_qb)\n",
    "        circuit.barrier(range(5))\n",
    "        if not tomography_on_equator:\n",
    "            circuit.rx(np.pi/2, measured_qb)\n",
    "            circuit.barrier(range(5))\n",
    "        # getattr(circuit, gate)(angle, measured_qb) if angle is not None else getattr(circuit, gate)(measured_qb)\n",
    "\n",
    "        circuit.append(gate, [measured_qb])\n",
    "        circuit.measure(measured_qb, measured_qb)\n",
    "        circuits += [circuit]\n",
    "\n",
    "        if show_circuit:\n",
    "            display(circuit.draw(output='mpl'))\n",
    "\n",
    "        exp_name = exp_basename + f\"_qbs{measured_qb, tested_qb}\"\n",
    "        exp_name = exp_name + f\"_testedQb{tested_qb_state}\" if tested_qb else exp_name\n",
    "        exp_name = exp_name + \"_eqTomo\" if tomography_on_equator else exp_name\n",
    "        exp_name = exp_name + \"_noIDs\" if not id_gates else exp_name\n",
    "        exp_name = exp_name + extra_label if extra_label else exp_name\n",
    "        exp_name = exp_name + f\"_M{tomo_option}\" if do_tomography else exp_name\n",
    "        print(exp_name)\n",
    "\n",
    "        if send_jobs:\n",
    "            header = get_file_header(circuit)\n",
    "            job = qiskit.execute(circuit, shots=2**14, optimization_level=0, backend=backend)\n",
    "            ExperimentData.save_job_result(job, exp_name, header)\n",
    "            jobs += [job]\n",
    "\n",
    "    return jobs, circuits"
   ],
   "metadata": {
    "collapsed": false,
    "pycharm": {
     "name": "#%%\n"
    }
   }
  },
  {
   "cell_type": "markdown",
   "source": [
    "## Measure all pairs"
   ],
   "metadata": {
    "collapsed": false,
    "pycharm": {
     "name": "#%% md\n"
    }
   }
  },
  {
   "cell_type": "code",
   "execution_count": 6,
   "outputs": [
    {
     "name": "stdout",
     "output_type": "stream",
     "text": [
      "IDLE\n",
      "msmt_induced_dephasing_qbs(3, 2)_testedQb0_eqTomo_MX\n"
     ]
    },
    {
     "name": "stderr",
     "output_type": "stream",
     "text": [
      "15:16:48 - inspire_experiments.data_utils:INFO - Saving results for job 7164267 in ./data/\n"
     ]
    },
    {
     "name": "stdout",
     "output_type": "stream",
     "text": [
      "msmt_induced_dephasing_qbs(3, 2)_testedQb0_eqTomo_MY\n"
     ]
    },
    {
     "name": "stderr",
     "output_type": "stream",
     "text": [
      "15:17:48 - inspire_experiments.data_utils:INFO - Saving results for job 7164268 in ./data/\n"
     ]
    },
    {
     "name": "stdout",
     "output_type": "stream",
     "text": [
      "msmt_induced_dephasing_qbs(3, 2)_testedQb0_eqTomo_MZ\n"
     ]
    },
    {
     "name": "stderr",
     "output_type": "stream",
     "text": [
      "15:18:42 - inspire_experiments.data_utils:INFO - Saving results for job 7164269 in ./data/\n"
     ]
    },
    {
     "name": "stdout",
     "output_type": "stream",
     "text": [
      "IDLE\n",
      "msmt_induced_dephasing_qbs(3, 2)_testedQb1_eqTomo_MX\n"
     ]
    },
    {
     "name": "stderr",
     "output_type": "stream",
     "text": [
      "15:19:34 - inspire_experiments.data_utils:INFO - Saving results for job 7164284 in ./data/\n"
     ]
    },
    {
     "name": "stdout",
     "output_type": "stream",
     "text": [
      "msmt_induced_dephasing_qbs(3, 2)_testedQb1_eqTomo_MY\n"
     ]
    },
    {
     "name": "stderr",
     "output_type": "stream",
     "text": [
      "15:20:27 - inspire_experiments.data_utils:INFO - Saving results for job 7164299 in ./data/\n"
     ]
    },
    {
     "name": "stdout",
     "output_type": "stream",
     "text": [
      "msmt_induced_dephasing_qbs(3, 2)_testedQb1_eqTomo_MZ\n"
     ]
    },
    {
     "name": "stderr",
     "output_type": "stream",
     "text": [
      "15:21:21 - inspire_experiments.data_utils:INFO - Saving results for job 7164314 in ./data/\n"
     ]
    },
    {
     "name": "stdout",
     "output_type": "stream",
     "text": [
      "IDLE\n",
      "msmt_induced_dephasing_qbs(3, 2)_testedQb+_eqTomo_MX\n"
     ]
    },
    {
     "name": "stderr",
     "output_type": "stream",
     "text": [
      "15:22:14 - inspire_experiments.data_utils:INFO - Saving results for job 7164329 in ./data/\n"
     ]
    },
    {
     "name": "stdout",
     "output_type": "stream",
     "text": [
      "msmt_induced_dephasing_qbs(3, 2)_testedQb+_eqTomo_MY\n"
     ]
    },
    {
     "name": "stderr",
     "output_type": "stream",
     "text": [
      "15:23:13 - inspire_experiments.data_utils:INFO - Saving results for job 7164345 in ./data/\n"
     ]
    },
    {
     "name": "stdout",
     "output_type": "stream",
     "text": [
      "msmt_induced_dephasing_qbs(3, 2)_testedQb+_eqTomo_MZ\n"
     ]
    },
    {
     "name": "stderr",
     "output_type": "stream",
     "text": [
      "15:24:08 - inspire_experiments.data_utils:INFO - Saving results for job 7164359 in ./data/\n"
     ]
    },
    {
     "name": "stdout",
     "output_type": "stream",
     "text": [
      "IDLE\n",
      "msmt_induced_dephasing_qbs(2, None)_eqTomo_MX\n"
     ]
    },
    {
     "name": "stderr",
     "output_type": "stream",
     "text": [
      "15:25:04 - inspire_experiments.data_utils:INFO - Saving results for job 7164375 in ./data/\n"
     ]
    },
    {
     "name": "stdout",
     "output_type": "stream",
     "text": [
      "msmt_induced_dephasing_qbs(2, None)_eqTomo_MY\n"
     ]
    },
    {
     "name": "stderr",
     "output_type": "stream",
     "text": [
      "15:26:00 - inspire_experiments.data_utils:INFO - Saving results for job 7164388 in ./data/\n"
     ]
    },
    {
     "name": "stdout",
     "output_type": "stream",
     "text": [
      "msmt_induced_dephasing_qbs(2, None)_eqTomo_MZ\n"
     ]
    },
    {
     "name": "stderr",
     "output_type": "stream",
     "text": [
      "15:26:49 - inspire_experiments.data_utils:INFO - Saving results for job 7164402 in ./data/\n",
      "15:28:22 - inspire_experiments.experiment_library:INFO - readout_correction_qbs[2]_testedQb0_state0\n",
      "15:28:22 - inspire_experiments.experiment_library:INFO - Measuring readout correction: state ('0',)\n",
      "15:28:23 - inspire_experiments.data_utils:INFO - Saving results for job 7164428 in ./data/\n",
      "15:29:58 - inspire_experiments.experiment_library:INFO - readout_correction_qbs[2]_testedQb0_state1\n",
      "15:29:58 - inspire_experiments.experiment_library:INFO - Measuring readout correction: state ('1',)\n",
      "15:29:59 - inspire_experiments.data_utils:INFO - Saving results for job 7164452 in ./data/\n"
     ]
    },
    {
     "name": "stdout",
     "output_type": "stream",
     "text": [
      "IDLE\n",
      "msmt_induced_dephasing_qbs(3, None)_eqTomo_MX\n"
     ]
    },
    {
     "name": "stderr",
     "output_type": "stream",
     "text": [
      "15:31:32 - inspire_experiments.data_utils:INFO - Saving results for job 7164477 in ./data/\n"
     ]
    },
    {
     "name": "stdout",
     "output_type": "stream",
     "text": [
      "msmt_induced_dephasing_qbs(3, None)_eqTomo_MY\n"
     ]
    },
    {
     "name": "stderr",
     "output_type": "stream",
     "text": [
      "15:33:07 - inspire_experiments.data_utils:INFO - Saving results for job 7164502 in ./data/\n"
     ]
    },
    {
     "name": "stdout",
     "output_type": "stream",
     "text": [
      "msmt_induced_dephasing_qbs(3, None)_eqTomo_MZ\n"
     ]
    },
    {
     "name": "stderr",
     "output_type": "stream",
     "text": [
      "15:34:40 - inspire_experiments.data_utils:INFO - Saving results for job 7164520 in ./data/\n",
      "15:36:13 - inspire_experiments.experiment_library:INFO - readout_correction_qbs[3]_testedQb0_state0\n",
      "15:36:13 - inspire_experiments.experiment_library:INFO - Measuring readout correction: state ('0',)\n",
      "15:36:13 - inspire_experiments.data_utils:INFO - Saving results for job 7164521 in ./data/\n",
      "15:37:45 - inspire_experiments.experiment_library:INFO - readout_correction_qbs[3]_testedQb0_state1\n",
      "15:37:45 - inspire_experiments.experiment_library:INFO - Measuring readout correction: state ('1',)\n",
      "15:37:46 - inspire_experiments.data_utils:INFO - Saving results for job 7164522 in ./data/\n"
     ]
    }
   ],
   "source": [
    "# pairs = [(2,1), (2,3), (3,2), (2, None), (3, None)]\n",
    "pairs = [ (3,2), (2, None), (3, None)]\n",
    "states = ['0', '1', '+']\n",
    "# pairs = [(2, None), (3, None)]\n",
    "\n",
    "for pair in pairs:\n",
    "    for state in states:\n",
    "        print(get_starmon_status(api))\n",
    "        measure_msmt_induced_dephasing(*pair, tested_qb_state=state, send_jobs=True, show_circuit=False)\n",
    "        if pair[1] is None:\n",
    "            measure_readout_correction(qubits=[pair[0]], extra_label=f\"_testedQb{state}\", backend=backend, send_jobs=True, show_circuit=False)\n",
    "            break\n",
    "\n"
   ],
   "metadata": {
    "collapsed": false,
    "pycharm": {
     "name": "#%%\n"
    }
   }
  },
  {
   "cell_type": "code",
   "execution_count": 5,
   "outputs": [],
   "source": [],
   "metadata": {
    "collapsed": false,
    "pycharm": {
     "name": "#%%\n"
    }
   }
  }
 ],
 "metadata": {
  "kernelspec": {
   "display_name": "Python [conda env:qi-py38]",
   "language": "python",
   "name": "conda-env-qi-py38-py"
  },
  "language_info": {
   "codemirror_mode": {
    "name": "ipython",
    "version": 3
   },
   "file_extension": ".py",
   "mimetype": "text/x-python",
   "name": "python",
   "nbconvert_exporter": "python",
   "pygments_lexer": "ipython3",
   "version": "3.8.8"
  },
  "toc-autonumbering": true,
  "toc-showcode": false,
  "toc-showmarkdowntxt": false
 },
 "nbformat": 4,
 "nbformat_minor": 5
}